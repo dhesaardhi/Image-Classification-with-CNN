{
  "nbformat": 4,
  "nbformat_minor": 0,
  "metadata": {
    "colab": {
      "provenance": [],
      "include_colab_link": true
    },
    "kernelspec": {
      "name": "python3",
      "display_name": "Python 3"
    },
    "language_info": {
      "name": "python"
    }
  },
  "cells": [
    {
      "cell_type": "markdown",
      "metadata": {
        "id": "view-in-github",
        "colab_type": "text"
      },
      "source": [
        "<a href=\"https://colab.research.google.com/github/dhesaardhi/Image-Classification-with-CNN/blob/main/Image_Clasification_Proyek_Akhir.ipynb\" target=\"_parent\"><img src=\"https://colab.research.google.com/assets/colab-badge.svg\" alt=\"Open In Colab\"/></a>"
      ]
    },
    {
      "cell_type": "markdown",
      "source": [
        "**Data Diri** <br>\n",
        "Nama : Dhesa Ardhiyanta <br>\n",
        "Email : dhesa.ardhiyanta@gmail.com <br>\n",
        "Proyek Akhir : Klasifikasi Gambar"
      ],
      "metadata": {
        "id": "900wSYgrrza6"
      }
    },
    {
      "cell_type": "markdown",
      "source": [
        "**IMPORT LIBRARY**"
      ],
      "metadata": {
        "id": "dtPEXm6_sByM"
      }
    },
    {
      "cell_type": "code",
      "execution_count": null,
      "metadata": {
        "colab": {
          "base_uri": "https://localhost:8080/"
        },
        "id": "HM4sZ-3qrymp",
        "outputId": "c86201dc-951a-499e-e837-fabda30bfb1f"
      },
      "outputs": [
        {
          "output_type": "stream",
          "name": "stdout",
          "text": [
            "2.12.0\n"
          ]
        }
      ],
      "source": [
        "import tensorflow as tf\n",
        "import zipfile,os"
      ]
    },
    {
      "cell_type": "markdown",
      "source": [
        "**IMPORT DATA**"
      ],
      "metadata": {
        "id": "WnRdGQDPsV-p"
      }
    },
    {
      "cell_type": "code",
      "source": [
        "!wget --no-check-certificate \\\n",
        "  https://dicodingacademy.blob.core.windows.net/picodiploma/ml_pemula_academy/rockpaperscissors.zip \\\n",
        "  -O /tmp/rockpaperscissors.zip"
      ],
      "metadata": {
        "colab": {
          "base_uri": "https://localhost:8080/"
        },
        "id": "VrKMhTtvsVjy",
        "outputId": "5ec264fe-12af-439e-e9f0-cbb8e326dade"
      },
      "execution_count": null,
      "outputs": [
        {
          "output_type": "stream",
          "name": "stdout",
          "text": [
            "--2023-09-05 06:39:45--  https://dicodingacademy.blob.core.windows.net/picodiploma/ml_pemula_academy/rockpaperscissors.zip\n",
            "Resolving dicodingacademy.blob.core.windows.net (dicodingacademy.blob.core.windows.net)... 52.239.197.36\n",
            "Connecting to dicodingacademy.blob.core.windows.net (dicodingacademy.blob.core.windows.net)|52.239.197.36|:443... connected.\n",
            "HTTP request sent, awaiting response... 404 The specified resource does not exist.\n",
            "2023-09-05 06:39:45 ERROR 404: The specified resource does not exist..\n",
            "\n"
          ]
        }
      ]
    },
    {
      "cell_type": "markdown",
      "source": [
        "**Ekstrasi File Zip**"
      ],
      "metadata": {
        "id": "lle9C2HGsq7_"
      }
    },
    {
      "cell_type": "code",
      "source": [
        "local_zip = '/tmp/rockpaperscissors.zip'\n",
        "zip_ref = zipfile.ZipFile(local_zip, 'r')\n",
        "zip_ref.extractall('/tmp')\n",
        "zip_ref.close()\n",
        "\n",
        "base_dir = '/tmp/rockpaperscissors/rps-cv-images'\n",
        "train_dir = os.path.join(base_dir, 'train')\n",
        "validation_dir = os.path.join(base_dir, 'val')"
      ],
      "metadata": {
        "id": "g0wvkhvtsnXZ"
      },
      "execution_count": null,
      "outputs": []
    },
    {
      "cell_type": "markdown",
      "source": [
        "**Cek Direktory**"
      ],
      "metadata": {
        "id": "r0tAPXMU8YGy"
      }
    },
    {
      "cell_type": "code",
      "source": [
        "os.listdir('/tmp/rockpaperscissors/rps-cv-images')"
      ],
      "metadata": {
        "colab": {
          "base_uri": "https://localhost:8080/"
        },
        "id": "--Cpo1dv1gMF",
        "outputId": "601f78a9-6a76-44ff-c56f-6cd648c8cf03"
      },
      "execution_count": null,
      "outputs": [
        {
          "output_type": "execute_result",
          "data": {
            "text/plain": [
              "['rock', 'paper', 'README_rpc-cv-images.txt', 'scissors']"
            ]
          },
          "metadata": {},
          "execution_count": 100
        }
      ]
    },
    {
      "cell_type": "markdown",
      "source": [
        "**Data Pre-Processing dengan Segmentasi Gambar**"
      ],
      "metadata": {
        "id": "WDrwG6du8d_n"
      }
    },
    {
      "cell_type": "code",
      "source": [
        "train_datagen = ImageDataGenerator(\n",
        "    rescale = 1./255,\n",
        "    rotation_range = 20,\n",
        "    horizontal_flip = True,\n",
        "    shear_range = 0.2,\n",
        "    fill_mode = 'wrap',\n",
        "    validation_split = 0.4\n",
        ")"
      ],
      "metadata": {
        "id": "6aBBxEY51lS4"
      },
      "execution_count": null,
      "outputs": []
    },
    {
      "cell_type": "markdown",
      "source": [
        "**Pembagian Data untuk Data Training dan Data Validation**"
      ],
      "metadata": {
        "id": "TRFKWTCFHyAO"
      }
    },
    {
      "cell_type": "code",
      "source": [
        "train_generator = train_datagen.flow_from_directory(\n",
        "    base_dir,\n",
        "    target_size = (100, 150),\n",
        "    class_mode = 'categorical',\n",
        "    subset = 'training'\n",
        ")\n",
        "\n",
        "validation_generator = train_datagen.flow_from_directory(\n",
        "    base_dir,\n",
        "    target_size = (100, 150),\n",
        "    class_mode = 'categorical',\n",
        "    subset = 'validation'\n",
        ")"
      ],
      "metadata": {
        "colab": {
          "base_uri": "https://localhost:8080/"
        },
        "id": "FIAKAe1l1w4G",
        "outputId": "1725ae81-924b-4874-a326-2e50c1f222e6"
      },
      "execution_count": null,
      "outputs": [
        {
          "output_type": "stream",
          "name": "stdout",
          "text": [
            "Found 1314 images belonging to 3 classes.\n",
            "Found 874 images belonging to 3 classes.\n"
          ]
        }
      ]
    },
    {
      "cell_type": "markdown",
      "source": [
        "**Bangun Arsitektur CNN**"
      ],
      "metadata": {
        "id": "zFtGx4BZItqv"
      }
    },
    {
      "cell_type": "code",
      "source": [
        "model = tf.keras.models.Sequential([\n",
        "    tf.keras.layers.Conv2D(16, (3,3), activation='relu', input_shape=(100, 150, 3)),\n",
        "    tf.keras.layers.MaxPooling2D(2, 2),\n",
        "    tf.keras.layers.Conv2D(32, (3,3), activation='relu'),\n",
        "    tf.keras.layers.MaxPooling2D(2,2),\n",
        "    tf.keras.layers.Conv2D(64, (3,3), activation='relu'),\n",
        "    tf.keras.layers.MaxPooling2D(2,2),\n",
        "    tf.keras.layers.Conv2D(128, (3,3), activation='relu'),\n",
        "    tf.keras.layers.MaxPooling2D(2,2),\n",
        "    tf.keras.layers.Flatten(),\n",
        "    tf.keras.layers.Dense(256, activation='relu'),\n",
        "    tf.keras.layers.Dense(3, activation='softmax')\n",
        "])"
      ],
      "metadata": {
        "id": "2wAwqawt132Y"
      },
      "execution_count": null,
      "outputs": []
    },
    {
      "cell_type": "code",
      "source": [
        "model.summary()"
      ],
      "metadata": {
        "colab": {
          "base_uri": "https://localhost:8080/"
        },
        "id": "13N-33xb_ARf",
        "outputId": "2e0bb399-56c5-417e-a250-86a51b69ac60"
      },
      "execution_count": null,
      "outputs": [
        {
          "output_type": "stream",
          "name": "stdout",
          "text": [
            "Model: \"sequential_8\"\n",
            "_________________________________________________________________\n",
            " Layer (type)                Output Shape              Param #   \n",
            "=================================================================\n",
            " conv2d_32 (Conv2D)          (None, 98, 148, 16)       448       \n",
            "                                                                 \n",
            " max_pooling2d_32 (MaxPoolin  (None, 49, 74, 16)       0         \n",
            " g2D)                                                            \n",
            "                                                                 \n",
            " conv2d_33 (Conv2D)          (None, 47, 72, 32)        4640      \n",
            "                                                                 \n",
            " max_pooling2d_33 (MaxPoolin  (None, 23, 36, 32)       0         \n",
            " g2D)                                                            \n",
            "                                                                 \n",
            " conv2d_34 (Conv2D)          (None, 21, 34, 64)        18496     \n",
            "                                                                 \n",
            " max_pooling2d_34 (MaxPoolin  (None, 10, 17, 64)       0         \n",
            " g2D)                                                            \n",
            "                                                                 \n",
            " conv2d_35 (Conv2D)          (None, 8, 15, 128)        73856     \n",
            "                                                                 \n",
            " max_pooling2d_35 (MaxPoolin  (None, 4, 7, 128)        0         \n",
            " g2D)                                                            \n",
            "                                                                 \n",
            " flatten_8 (Flatten)         (None, 3584)              0         \n",
            "                                                                 \n",
            " dense_16 (Dense)            (None, 256)               917760    \n",
            "                                                                 \n",
            " dense_17 (Dense)            (None, 3)                 771       \n",
            "                                                                 \n",
            "=================================================================\n",
            "Total params: 1,015,971\n",
            "Trainable params: 1,015,971\n",
            "Non-trainable params: 0\n",
            "_________________________________________________________________\n"
          ]
        }
      ]
    },
    {
      "cell_type": "markdown",
      "source": [
        "**Compile model dengan menggunakan 'adam' dan optimizer loss function 'categorical_crossentropy' karena target menggunakan data categorial**"
      ],
      "metadata": {
        "id": "V7Pw1UZbJbN0"
      }
    },
    {
      "cell_type": "code",
      "source": [
        "model.compile(\n",
        "    loss = 'categorical_crossentropy',\n",
        "    optimizer = tf.optimizers.Adam(),\n",
        "    metrics = ['accuracy']\n",
        ")"
      ],
      "metadata": {
        "id": "D6mO1swC18dK"
      },
      "execution_count": null,
      "outputs": []
    },
    {
      "cell_type": "markdown",
      "source": [
        "**Function Callback** untuk menampilkan angka tertinggi dari hasil akurasi"
      ],
      "metadata": {
        "id": "OAwmajZ2JQNZ"
      }
    },
    {
      "cell_type": "markdown",
      "source": [
        "**Training Pemodelan**"
      ],
      "metadata": {
        "id": "XBDJnBNdKpd4"
      }
    },
    {
      "cell_type": "code",
      "source": [
        "model.fit(\n",
        "      train_generator,\n",
        "      steps_per_epoch=25,\n",
        "      epochs=20,\n",
        "      validation_data=validation_generator,\n",
        "      validation_steps=5,\n",
        "      verbose=2,\n",
        ")"
      ],
      "metadata": {
        "colab": {
          "base_uri": "https://localhost:8080/"
        },
        "id": "jxMDVuSS2FqS",
        "outputId": "3af60a7c-0c3a-4932-b28f-51412e724722"
      },
      "execution_count": null,
      "outputs": [
        {
          "output_type": "stream",
          "name": "stdout",
          "text": [
            "Epoch 1/20\n",
            "25/25 - 23s - loss: 0.0100 - accuracy: 0.9961 - val_loss: 0.0308 - val_accuracy: 0.9812 - 23s/epoch - 914ms/step\n",
            "Epoch 2/20\n",
            "25/25 - 20s - loss: 0.0194 - accuracy: 0.9961 - val_loss: 0.0160 - val_accuracy: 0.9937 - 20s/epoch - 812ms/step\n",
            "Epoch 3/20\n",
            "25/25 - 18s - loss: 0.0178 - accuracy: 0.9937 - val_loss: 0.0203 - val_accuracy: 0.9937 - 18s/epoch - 726ms/step\n",
            "Epoch 4/20\n",
            "25/25 - 19s - loss: 0.0180 - accuracy: 0.9935 - val_loss: 0.0985 - val_accuracy: 0.9688 - 19s/epoch - 775ms/step\n",
            "Epoch 5/20\n",
            "25/25 - 18s - loss: 0.0105 - accuracy: 0.9975 - val_loss: 0.0482 - val_accuracy: 0.9812 - 18s/epoch - 735ms/step\n",
            "Epoch 6/20\n",
            "25/25 - 20s - loss: 0.0125 - accuracy: 0.9987 - val_loss: 0.1447 - val_accuracy: 0.9812 - 20s/epoch - 797ms/step\n",
            "Epoch 7/20\n",
            "25/25 - 19s - loss: 0.0126 - accuracy: 0.9975 - val_loss: 0.0372 - val_accuracy: 0.9937 - 19s/epoch - 746ms/step\n",
            "Epoch 8/20\n",
            "25/25 - 19s - loss: 0.0242 - accuracy: 0.9909 - val_loss: 0.2126 - val_accuracy: 0.9750 - 19s/epoch - 755ms/step\n",
            "Epoch 9/20\n",
            "25/25 - 18s - loss: 0.0339 - accuracy: 0.9870 - val_loss: 0.0112 - val_accuracy: 1.0000 - 18s/epoch - 709ms/step\n",
            "Epoch 10/20\n",
            "25/25 - 19s - loss: 0.0231 - accuracy: 0.9962 - val_loss: 0.0632 - val_accuracy: 0.9875 - 19s/epoch - 769ms/step\n",
            "Epoch 11/20\n",
            "25/25 - 18s - loss: 0.0209 - accuracy: 0.9937 - val_loss: 0.0263 - val_accuracy: 0.9937 - 18s/epoch - 719ms/step\n",
            "Epoch 12/20\n",
            "25/25 - 18s - loss: 0.0137 - accuracy: 0.9922 - val_loss: 0.0631 - val_accuracy: 0.9875 - 18s/epoch - 716ms/step\n",
            "Epoch 13/20\n",
            "25/25 - 19s - loss: 0.0129 - accuracy: 0.9962 - val_loss: 0.1277 - val_accuracy: 0.9812 - 19s/epoch - 759ms/step\n",
            "Epoch 14/20\n",
            "25/25 - 18s - loss: 0.0181 - accuracy: 0.9909 - val_loss: 0.0340 - val_accuracy: 0.9812 - 18s/epoch - 710ms/step\n",
            "Epoch 15/20\n",
            "25/25 - 19s - loss: 0.0064 - accuracy: 0.9974 - val_loss: 0.0279 - val_accuracy: 0.9937 - 19s/epoch - 743ms/step\n",
            "Epoch 16/20\n",
            "25/25 - 19s - loss: 0.0047 - accuracy: 0.9987 - val_loss: 0.0260 - val_accuracy: 0.9937 - 19s/epoch - 746ms/step\n",
            "Epoch 17/20\n",
            "25/25 - 18s - loss: 0.0085 - accuracy: 0.9961 - val_loss: 0.0214 - val_accuracy: 0.9875 - 18s/epoch - 721ms/step\n",
            "Epoch 18/20\n",
            "25/25 - 19s - loss: 0.0211 - accuracy: 0.9948 - val_loss: 0.0070 - val_accuracy: 0.9937 - 19s/epoch - 743ms/step\n",
            "Epoch 19/20\n",
            "25/25 - 18s - loss: 0.0118 - accuracy: 0.9935 - val_loss: 0.0399 - val_accuracy: 0.9937 - 18s/epoch - 712ms/step\n",
            "Epoch 20/20\n",
            "25/25 - 18s - loss: 0.0114 - accuracy: 0.9974 - val_loss: 0.0801 - val_accuracy: 0.9812 - 18s/epoch - 702ms/step\n"
          ]
        },
        {
          "output_type": "execute_result",
          "data": {
            "text/plain": [
              "<keras.callbacks.History at 0x7fbb6e934a30>"
            ]
          },
          "metadata": {},
          "execution_count": 122
        }
      ]
    },
    {
      "cell_type": "markdown",
      "source": [
        "Akurasi tertinggi sebesar **99.87%** yang terjadi pada epoch ke 16"
      ],
      "metadata": {
        "id": "tGgMobzKRw3l"
      }
    },
    {
      "cell_type": "markdown",
      "source": [
        "**Uji Data Tunggal**"
      ],
      "metadata": {
        "id": "MXH6hxc5K7zU"
      }
    },
    {
      "cell_type": "code",
      "source": [
        "import numpy as np\n",
        "from google.colab import files\n",
        "from tensorflow.keras.preprocessing import image\n",
        "import matplotlib.pyplot as plt\n",
        "import matplotlib.image as mpimg\n",
        "%matplotlib inline\n",
        "\n",
        "upload_data = files.upload()\n",
        "\n",
        "for fn in upload_data.keys():\n",
        "\n",
        "  # predicting images\n",
        "  path = fn\n",
        "  img_input = image.load_img(path, target_size=(100,150))\n",
        "\n",
        "  imgplot = plt.imshow(img_input)\n",
        "  transpose_image = image.img_to_array(img_input)\n",
        "  transpose_image = np.expand_dims(transpose_image, axis=0)\n",
        "  images = np.vstack([transpose_image])\n",
        "\n",
        "  classes = model.predict(images, batch_size=10)\n",
        "  print(fn)\n",
        "  if classes[0, 0] == 1:\n",
        "    print('Hasil Klasifikasi adalah KERTAS')\n",
        "  elif classes[0, 1] == 1:\n",
        "    print('Hasil Klasifikasi adalah BATU')\n",
        "  elif classes[0, 2] == 1:\n",
        "    print('Hasil Klasifikasi adalah GUNTING')"
      ],
      "metadata": {
        "colab": {
          "base_uri": "https://localhost:8080/",
          "height": 505
        },
        "id": "vp0WYvusSRM4",
        "outputId": "5d2ef6a2-3792-4b0f-b510-36beb4a09e32"
      },
      "execution_count": null,
      "outputs": [
        {
          "output_type": "display_data",
          "data": {
            "text/plain": [
              "<IPython.core.display.HTML object>"
            ],
            "text/html": [
              "\n",
              "     <input type=\"file\" id=\"files-ba49abe8-13a2-4f83-bd65-237b40798897\" name=\"files[]\" multiple disabled\n",
              "        style=\"border:none\" />\n",
              "     <output id=\"result-ba49abe8-13a2-4f83-bd65-237b40798897\">\n",
              "      Upload widget is only available when the cell has been executed in the\n",
              "      current browser session. Please rerun this cell to enable.\n",
              "      </output>\n",
              "      <script>// Copyright 2017 Google LLC\n",
              "//\n",
              "// Licensed under the Apache License, Version 2.0 (the \"License\");\n",
              "// you may not use this file except in compliance with the License.\n",
              "// You may obtain a copy of the License at\n",
              "//\n",
              "//      http://www.apache.org/licenses/LICENSE-2.0\n",
              "//\n",
              "// Unless required by applicable law or agreed to in writing, software\n",
              "// distributed under the License is distributed on an \"AS IS\" BASIS,\n",
              "// WITHOUT WARRANTIES OR CONDITIONS OF ANY KIND, either express or implied.\n",
              "// See the License for the specific language governing permissions and\n",
              "// limitations under the License.\n",
              "\n",
              "/**\n",
              " * @fileoverview Helpers for google.colab Python module.\n",
              " */\n",
              "(function(scope) {\n",
              "function span(text, styleAttributes = {}) {\n",
              "  const element = document.createElement('span');\n",
              "  element.textContent = text;\n",
              "  for (const key of Object.keys(styleAttributes)) {\n",
              "    element.style[key] = styleAttributes[key];\n",
              "  }\n",
              "  return element;\n",
              "}\n",
              "\n",
              "// Max number of bytes which will be uploaded at a time.\n",
              "const MAX_PAYLOAD_SIZE = 100 * 1024;\n",
              "\n",
              "function _uploadFiles(inputId, outputId) {\n",
              "  const steps = uploadFilesStep(inputId, outputId);\n",
              "  const outputElement = document.getElementById(outputId);\n",
              "  // Cache steps on the outputElement to make it available for the next call\n",
              "  // to uploadFilesContinue from Python.\n",
              "  outputElement.steps = steps;\n",
              "\n",
              "  return _uploadFilesContinue(outputId);\n",
              "}\n",
              "\n",
              "// This is roughly an async generator (not supported in the browser yet),\n",
              "// where there are multiple asynchronous steps and the Python side is going\n",
              "// to poll for completion of each step.\n",
              "// This uses a Promise to block the python side on completion of each step,\n",
              "// then passes the result of the previous step as the input to the next step.\n",
              "function _uploadFilesContinue(outputId) {\n",
              "  const outputElement = document.getElementById(outputId);\n",
              "  const steps = outputElement.steps;\n",
              "\n",
              "  const next = steps.next(outputElement.lastPromiseValue);\n",
              "  return Promise.resolve(next.value.promise).then((value) => {\n",
              "    // Cache the last promise value to make it available to the next\n",
              "    // step of the generator.\n",
              "    outputElement.lastPromiseValue = value;\n",
              "    return next.value.response;\n",
              "  });\n",
              "}\n",
              "\n",
              "/**\n",
              " * Generator function which is called between each async step of the upload\n",
              " * process.\n",
              " * @param {string} inputId Element ID of the input file picker element.\n",
              " * @param {string} outputId Element ID of the output display.\n",
              " * @return {!Iterable<!Object>} Iterable of next steps.\n",
              " */\n",
              "function* uploadFilesStep(inputId, outputId) {\n",
              "  const inputElement = document.getElementById(inputId);\n",
              "  inputElement.disabled = false;\n",
              "\n",
              "  const outputElement = document.getElementById(outputId);\n",
              "  outputElement.innerHTML = '';\n",
              "\n",
              "  const pickedPromise = new Promise((resolve) => {\n",
              "    inputElement.addEventListener('change', (e) => {\n",
              "      resolve(e.target.files);\n",
              "    });\n",
              "  });\n",
              "\n",
              "  const cancel = document.createElement('button');\n",
              "  inputElement.parentElement.appendChild(cancel);\n",
              "  cancel.textContent = 'Cancel upload';\n",
              "  const cancelPromise = new Promise((resolve) => {\n",
              "    cancel.onclick = () => {\n",
              "      resolve(null);\n",
              "    };\n",
              "  });\n",
              "\n",
              "  // Wait for the user to pick the files.\n",
              "  const files = yield {\n",
              "    promise: Promise.race([pickedPromise, cancelPromise]),\n",
              "    response: {\n",
              "      action: 'starting',\n",
              "    }\n",
              "  };\n",
              "\n",
              "  cancel.remove();\n",
              "\n",
              "  // Disable the input element since further picks are not allowed.\n",
              "  inputElement.disabled = true;\n",
              "\n",
              "  if (!files) {\n",
              "    return {\n",
              "      response: {\n",
              "        action: 'complete',\n",
              "      }\n",
              "    };\n",
              "  }\n",
              "\n",
              "  for (const file of files) {\n",
              "    const li = document.createElement('li');\n",
              "    li.append(span(file.name, {fontWeight: 'bold'}));\n",
              "    li.append(span(\n",
              "        `(${file.type || 'n/a'}) - ${file.size} bytes, ` +\n",
              "        `last modified: ${\n",
              "            file.lastModifiedDate ? file.lastModifiedDate.toLocaleDateString() :\n",
              "                                    'n/a'} - `));\n",
              "    const percent = span('0% done');\n",
              "    li.appendChild(percent);\n",
              "\n",
              "    outputElement.appendChild(li);\n",
              "\n",
              "    const fileDataPromise = new Promise((resolve) => {\n",
              "      const reader = new FileReader();\n",
              "      reader.onload = (e) => {\n",
              "        resolve(e.target.result);\n",
              "      };\n",
              "      reader.readAsArrayBuffer(file);\n",
              "    });\n",
              "    // Wait for the data to be ready.\n",
              "    let fileData = yield {\n",
              "      promise: fileDataPromise,\n",
              "      response: {\n",
              "        action: 'continue',\n",
              "      }\n",
              "    };\n",
              "\n",
              "    // Use a chunked sending to avoid message size limits. See b/62115660.\n",
              "    let position = 0;\n",
              "    do {\n",
              "      const length = Math.min(fileData.byteLength - position, MAX_PAYLOAD_SIZE);\n",
              "      const chunk = new Uint8Array(fileData, position, length);\n",
              "      position += length;\n",
              "\n",
              "      const base64 = btoa(String.fromCharCode.apply(null, chunk));\n",
              "      yield {\n",
              "        response: {\n",
              "          action: 'append',\n",
              "          file: file.name,\n",
              "          data: base64,\n",
              "        },\n",
              "      };\n",
              "\n",
              "      let percentDone = fileData.byteLength === 0 ?\n",
              "          100 :\n",
              "          Math.round((position / fileData.byteLength) * 100);\n",
              "      percent.textContent = `${percentDone}% done`;\n",
              "\n",
              "    } while (position < fileData.byteLength);\n",
              "  }\n",
              "\n",
              "  // All done.\n",
              "  yield {\n",
              "    response: {\n",
              "      action: 'complete',\n",
              "    }\n",
              "  };\n",
              "}\n",
              "\n",
              "scope.google = scope.google || {};\n",
              "scope.google.colab = scope.google.colab || {};\n",
              "scope.google.colab._files = {\n",
              "  _uploadFiles,\n",
              "  _uploadFilesContinue,\n",
              "};\n",
              "})(self);\n",
              "</script> "
            ]
          },
          "metadata": {}
        },
        {
          "output_type": "stream",
          "name": "stdout",
          "text": [
            "Saving 04l5I8TqdzF9WDMJ.png to 04l5I8TqdzF9WDMJ (7).png\n",
            "1/1 [==============================] - 0s 29ms/step\n",
            "04l5I8TqdzF9WDMJ (7).png\n",
            "Hasil Klasifikasi adalah KERTAS\n"
          ]
        },
        {
          "output_type": "display_data",
          "data": {
            "text/plain": [
              "<Figure size 640x480 with 1 Axes>"
            ],
            "image/png": "[encoded data removed]"
          },
          "metadata": {}
        }
      ]
    }
  ]
}